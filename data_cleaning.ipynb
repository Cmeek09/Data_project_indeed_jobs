{
 "cells": [
  {
   "attachments": {},
   "cell_type": "markdown",
   "metadata": {},
   "source": [
    "# Results and future work\n",
    "\n",
    "The APIs in total got about 500 jobs and the web scraping with selenium yeilded about 1300, so that isn't the most amount of dta but its enough to get some general mertrics and insights, plus the amount of work to unify this will be pretty substancial as well."
   ]
  },
  {
   "attachments": {},
   "cell_type": "markdown",
   "metadata": {},
   "source": [
    "Getting the job descriptions more generalized to get a better feel for the data.\n"
   ]
  },
  {
   "cell_type": "code",
   "execution_count": 11,
   "metadata": {},
   "outputs": [],
   "source": [
    "import pandas as pd\n",
    "\n",
    "def group_job_title(title):\n",
    "    title = str(title).lower()\n",
    "    \n",
    "    if 'hadoop' in title or 'data' in title or 'database' in title or 'spark' in title:\n",
    "        return 'data engineer'\n",
    "    elif 'azure' in title or 'aws' in title or 'cloud' in title:\n",
    "        return 'cloud enginner'\n",
    "    if 'full' in title or 'stack' in title or 'frontend' in title or 'backend' in title or 'front' in title or 'end' in title or 'react' in title or 'angular' in title or '.net' in title or 'node' in title or 'nodejs' in title:\n",
    "        return 'web developer'\n",
    "    elif 'machine learning' in title or 'ai' in title or 'ml' in title or 'quantitative' in title:\n",
    "        return 'data science'\n",
    "    elif 'network' in title or 'security' in title or 'cyber' in title or 'Cyber' in title or 'Cybersecurity' in title:\n",
    "        return 'network engineer'\n",
    "    elif 'andriod' in title or 'ios' in title:\n",
    "        return 'mobile developer'\n",
    "    elif 'nan' in title or 'null' in title:\n",
    "        return 'no title given'\n",
    "    elif 'c++' in title or 'C++' in title or 'java' in title or 'Java' or 'golang' in title or 'python' in title:\n",
    "        return 'software engineer'\n",
    "    else:\n",
    "        return 'software egnineer'\n",
    "\n",
    "# Read the Excel files\n",
    "df1 = pd.read_excel('combined_indeed_jobs.xlsx')\n",
    "df2 = pd.read_excel('indeed_jobs_250.xlsx',sheet_name='cleaned_data')\n",
    "df3 = pd.read_excel('job_data_updated.xlsx')\n",
    "\n",
    "# Apply the job category mapping to each DataFrame\n",
    "df1['Category'] = df1['job_title_lower'].apply(group_job_title)\n",
    "df2['Category'] = df2['job_title_lower'].apply(group_job_title)\n",
    "df3['Category'] = df3['title_lower'].apply(group_job_title)\n",
    "\n",
    "# # Print the updated DataFrames\n",
    "# print(df1.head())\n",
    "# print(df2.head())\n",
    "# print(df3.head())\n",
    "\n",
    "# Save the DataFrames with the new column back to Excel\n",
    "df1.to_excel('combined_indeed_jobs_updated.xlsx', index=False)\n",
    "df2.to_excel('indeed_jobs_250_updated.xlsx', index=False)\n",
    "df3.to_excel('job_data_updated_new.xlsx', index=False)\n"
   ]
  },
  {
   "attachments": {},
   "cell_type": "markdown",
   "metadata": {},
   "source": [
    "Second thing I wanted to find was averaging the salary range out.  Since some data is missing for salaries, if I generalize the categories, I can take the average of those same categories for the position.  This might later turn into getting the numbers based on geo-location, but one step at a time."
   ]
  },
  {
   "cell_type": "code",
   "execution_count": null,
   "metadata": {},
   "outputs": [],
   "source": [
    "import re\n",
    "\n",
    "# Sample salary data\n",
    "salaries = [\n",
    "    'No Salary Mentioned',\n",
    "    '$35 - $60 an hour',\n",
    "    '$135,650 - $223,650 a year',\n",
    "    'No Salary Mentioned',\n",
    "    '$84,835 - $99,479 a year',\n",
    "    '$65,000 - $80,000 a year'\n",
    "]\n",
    "\n",
    "extracted_salaries = []\n",
    "\n",
    "for salary in salaries:\n",
    "    # Remove non-numeric characters except for commas and periods\n",
    "    cleaned_salary = re.sub(r'[^\\d.,]', '', salary)\n",
    "    \n",
    "    # Extract numbers using regex pattern\n",
    "    numbers = re.findall(r'\\d+(?:,\\d+)?(?:\\.\\d+)?', cleaned_salary)\n",
    "    \n",
    "    if numbers:\n",
    "        extracted_salaries.append(numbers)\n",
    "    else:\n",
    "        extracted_salaries.append(None)\n",
    "\n",
    "\n",
    "\n",
    "# Read the Excel files\n",
    "df1 = pd.read_excel('combined_indeed_jobs.xlsx')\n",
    "\n",
    "# apply function to column\n",
    "df1['Category'] = df1['job_title_lower'].apply(group_job_title)"
   ]
  }
 ],
 "metadata": {
  "kernelspec": {
   "display_name": "base",
   "language": "python",
   "name": "python3"
  },
  "language_info": {
   "codemirror_mode": {
    "name": "ipython",
    "version": 3
   },
   "file_extension": ".py",
   "mimetype": "text/x-python",
   "name": "python",
   "nbconvert_exporter": "python",
   "pygments_lexer": "ipython3",
   "version": "3.9.15"
  },
  "orig_nbformat": 4
 },
 "nbformat": 4,
 "nbformat_minor": 2
}
